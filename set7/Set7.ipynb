{
 "cells": [
  {
   "cell_type": "code",
   "execution_count": 145,
   "metadata": {
    "collapsed": false
   },
   "outputs": [],
   "source": [
    "import numpy as np\n",
    "import csv\n",
    "import sys\n",
    "import random\n",
    "from sklearn.svm import SVC"
   ]
  },
  {
   "cell_type": "code",
   "execution_count": 2,
   "metadata": {
    "collapsed": true
   },
   "outputs": [],
   "source": [
    "def compute_linreg_weights(X_mat, y_vec):\n",
    "    '''Takes a matrix of training values X_mat (each row is a training instance) and\n",
    "       a target vector y_vec and computes the linear regression weight vector for the\n",
    "       data.'''\n",
    "    pseudo_inv = np.dot(np.linalg.inv((np.dot(X_mat.T, X_mat))), X_mat.T)\n",
    "    return np.dot(pseudo_inv, y_vec)\n",
    "\n",
    "def predict_linreg(x, weights):\n",
    "    '''Uses a pre-trained linear regression model (given by weights) to predict a binary\n",
    "       target function given data x.'''\n",
    "    return np.sign(np.dot(weights, x))\n",
    "\n",
    "def nonlinear_transform(x_arr):\n",
    "    '''Compute the nonlinear transform (x1, x1) -> (1, x1, x2, x1^2, x2^2, x1x2, |x1 - x2|,\n",
    "       |x1 + x2|).'''\n",
    "    x1 = x_arr[0]\n",
    "    x2 = x_arr[1]\n",
    "    return np.array([1., x1, x2, x1**2, x2**2, x1 * x2, np.abs(x1 - x2), np.abs(x1 + x2)])"
   ]
  },
  {
   "cell_type": "markdown",
   "metadata": {},
   "source": [
    "# Problem 1"
   ]
  },
  {
   "cell_type": "code",
   "execution_count": 27,
   "metadata": {
    "collapsed": true
   },
   "outputs": [],
   "source": [
    "# Read in the data\n",
    "training_file = csv.reader(open('in.dta', 'r'), delimiter='\\t')\n",
    "training_set_full = np.array([list(map(float, row[0].strip().split())) for row in training_file])\n",
    "testing_file = csv.reader(open('out.dta', 'r'), delimiter='\\t')\n",
    "testing_set_full = np.array([list(map(float, row[0].strip().split())) for row in testing_file])\n"
   ]
  },
  {
   "cell_type": "code",
   "execution_count": 72,
   "metadata": {
    "collapsed": true
   },
   "outputs": [],
   "source": [
    "# Split into training and validation\n",
    "training_set = training_set_full[:25]\n",
    "val_set = training_set_full[25:]\n",
    "X_train = np.array([row[:-1] for row in training_set])\n",
    "Y_train = np.array([row[-1] for row in training_set])\n",
    "X_val = np.array([row[:-1] for row in val_set])\n",
    "Y_val = np.array([row[-1] for row in val_set])\n",
    "X_test = np.array([row[:-1] for row in testing_set_full])\n",
    "Y_test = np.array([row[-1] for row in testing_set_full])"
   ]
  },
  {
   "cell_type": "code",
   "execution_count": 73,
   "metadata": {
    "collapsed": true
   },
   "outputs": [],
   "source": [
    "# Train on phi_0 through phi_3\n",
    "# Do the nonlinear transform\n",
    "k = 3\n",
    "X_transform = np.array([nonlinear_transform(row)[:k+1] for row in X_train])\n",
    "\n",
    "# Run linear regression\n",
    "weights = compute_linreg_weights(X_transform, Y_train)\n",
    "\n",
    "# Get the validation error\n",
    "X_val_transform = np.array([nonlinear_transform(row)[:k+1] for row in X_val])\n",
    "predictions = [predict_linreg(x[:k+1], weights) for x in X_val_transform]\n",
    "val_error_thru_phi3 = 1 - sum(np.equal(predictions, Y_val).astype(int)) / len(Y_val)\n",
    "\n",
    "# Get the out-of-sample error (problem 2)\n",
    "X_test_transform = np.array([nonlinear_transform(row)[:k+1] for row in X_test])\n",
    "predictions_oos = [predict_linreg(x[:k+1], weights) for x in X_test_transform]\n",
    "oos_error_thru_phi3 = 1 - sum(np.equal(predictions_oos, Y_test).astype(int)) / len(Y_test)"
   ]
  },
  {
   "cell_type": "code",
   "execution_count": 63,
   "metadata": {
    "collapsed": false
   },
   "outputs": [
    {
     "data": {
      "text/plain": [
       "0.30000000000000004"
      ]
     },
     "execution_count": 63,
     "metadata": {},
     "output_type": "execute_result"
    }
   ],
   "source": [
    "val_error_thru_phi3"
   ]
  },
  {
   "cell_type": "code",
   "execution_count": 74,
   "metadata": {
    "collapsed": true
   },
   "outputs": [],
   "source": [
    "# Train on phi_0 through phi_4\n",
    "# Do the nonlinear transform\n",
    "k = 4\n",
    "X_transform = np.array([nonlinear_transform(row)[:k+1] for row in X_train])\n",
    "\n",
    "# Run linear regression\n",
    "weights = compute_linreg_weights(X_transform, Y_train)\n",
    "\n",
    "# Get the validation error\n",
    "X_val_transform = np.array([nonlinear_transform(row)[:k+1] for row in X_val])\n",
    "predictions = [predict_linreg(x[:k+1], weights) for x in X_val_transform]\n",
    "val_error_thru_phi4 = 1 - sum(np.equal(predictions, Y_val).astype(int)) / len(Y_val)\n",
    "\n",
    "# Get the out-of-sample error (problem 2)\n",
    "X_test_transform = np.array([nonlinear_transform(row)[:k+1] for row in X_test])\n",
    "predictions_oos = [predict_linreg(x[:k+1], weights) for x in X_test_transform]\n",
    "oos_error_thru_phi4 = 1 - sum(np.equal(predictions_oos, Y_test).astype(int)) / len(Y_test)"
   ]
  },
  {
   "cell_type": "code",
   "execution_count": 65,
   "metadata": {
    "collapsed": false
   },
   "outputs": [
    {
     "data": {
      "text/plain": [
       "0.5"
      ]
     },
     "execution_count": 65,
     "metadata": {},
     "output_type": "execute_result"
    }
   ],
   "source": [
    "val_error_thru_phi4"
   ]
  },
  {
   "cell_type": "code",
   "execution_count": 76,
   "metadata": {
    "collapsed": true
   },
   "outputs": [],
   "source": [
    "# Train on phi_0 through phi_5\n",
    "# Do the nonlinear transform\n",
    "k = 5\n",
    "X_transform = np.array([nonlinear_transform(row)[:k+1] for row in X_train])\n",
    "\n",
    "# Run linear regression\n",
    "weights = compute_linreg_weights(X_transform, Y_train)\n",
    "\n",
    "# Get the validation error\n",
    "X_val_transform = np.array([nonlinear_transform(row)[:k+1] for row in X_val])\n",
    "predictions = [predict_linreg(x[:k+1], weights) for x in X_val_transform]\n",
    "val_error_thru_phi5 = 1 - sum(np.equal(predictions, Y_val).astype(int)) / len(Y_val)\n",
    "\n",
    "# Get the out-of-sample error (problem 2)\n",
    "X_test_transform = np.array([nonlinear_transform(row)[:k+1] for row in X_test])\n",
    "predictions_oos = [predict_linreg(x[:k+1], weights) for x in X_test_transform]\n",
    "oos_error_thru_phi5 = 1 - sum(np.equal(predictions_oos, Y_test).astype(int)) / len(Y_test)"
   ]
  },
  {
   "cell_type": "code",
   "execution_count": 67,
   "metadata": {
    "collapsed": false
   },
   "outputs": [
    {
     "data": {
      "text/plain": [
       "0.19999999999999996"
      ]
     },
     "execution_count": 67,
     "metadata": {},
     "output_type": "execute_result"
    }
   ],
   "source": [
    "val_error_thru_phi5"
   ]
  },
  {
   "cell_type": "code",
   "execution_count": 77,
   "metadata": {
    "collapsed": true
   },
   "outputs": [],
   "source": [
    "# Train on phi_0 through phi_6\n",
    "# Do the nonlinear transform\n",
    "k = 6\n",
    "X_transform = np.array([nonlinear_transform(row)[:k+1] for row in X_train])\n",
    "\n",
    "# Run linear regression\n",
    "weights = compute_linreg_weights(X_transform, Y_train)\n",
    "\n",
    "# Get the validation error\n",
    "X_val_transform = np.array([nonlinear_transform(row)[:k+1] for row in X_val])\n",
    "predictions = [predict_linreg(x[:k+1], weights) for x in X_val_transform]\n",
    "val_error_thru_phi6 = 1 - sum(np.equal(predictions, Y_val).astype(int)) / len(Y_val)\n",
    "\n",
    "# Get the out-of-sample error (problem 2)\n",
    "X_test_transform = np.array([nonlinear_transform(row)[:k+1] for row in X_test])\n",
    "predictions_oos = [predict_linreg(x[:k+1], weights) for x in X_test_transform]\n",
    "oos_error_thru_phi6 = 1 - sum(np.equal(predictions_oos, Y_test).astype(int)) / len(Y_test)"
   ]
  },
  {
   "cell_type": "code",
   "execution_count": 69,
   "metadata": {
    "collapsed": false
   },
   "outputs": [
    {
     "data": {
      "text/plain": [
       "0.0"
      ]
     },
     "execution_count": 69,
     "metadata": {},
     "output_type": "execute_result"
    }
   ],
   "source": [
    "val_error_thru_phi6"
   ]
  },
  {
   "cell_type": "code",
   "execution_count": 78,
   "metadata": {
    "collapsed": true
   },
   "outputs": [],
   "source": [
    "# Train on phi_0 through phi_7\n",
    "# Do the nonlinear transform\n",
    "k = 7\n",
    "X_transform = np.array([nonlinear_transform(row)[:k+1] for row in X_train])\n",
    "\n",
    "# Run linear regression\n",
    "weights = compute_linreg_weights(X_transform, Y_train)\n",
    "\n",
    "# Get the validation error\n",
    "X_val_transform = np.array([nonlinear_transform(row)[:k+1] for row in X_val])\n",
    "predictions = [predict_linreg(x[:k+1], weights) for x in X_val_transform]\n",
    "val_error_thru_phi7 = 1 - sum(np.equal(predictions, Y_val).astype(int)) / len(Y_val)\n",
    "\n",
    "# Get the out-of-sample error (problem 2)\n",
    "X_test_transform = np.array([nonlinear_transform(row)[:k+1] for row in X_test])\n",
    "predictions_oos = [predict_linreg(x[:k+1], weights) for x in X_test_transform]\n",
    "oos_error_thru_phi7 = 1 - sum(np.equal(predictions_oos, Y_test).astype(int)) / len(Y_test)"
   ]
  },
  {
   "cell_type": "code",
   "execution_count": 71,
   "metadata": {
    "collapsed": false
   },
   "outputs": [
    {
     "data": {
      "text/plain": [
       "0.099999999999999978"
      ]
     },
     "execution_count": 71,
     "metadata": {},
     "output_type": "execute_result"
    }
   ],
   "source": [
    "val_error_thru_phi7"
   ]
  },
  {
   "cell_type": "markdown",
   "metadata": {},
   "source": [
    "## So the answer is [d]: k = 6"
   ]
  },
  {
   "cell_type": "markdown",
   "metadata": {},
   "source": [
    "# Problem 2"
   ]
  },
  {
   "cell_type": "code",
   "execution_count": 79,
   "metadata": {
    "collapsed": false
   },
   "outputs": [
    {
     "data": {
      "text/plain": [
       "0.42000000000000004"
      ]
     },
     "execution_count": 79,
     "metadata": {},
     "output_type": "execute_result"
    }
   ],
   "source": [
    "oos_error_thru_phi3"
   ]
  },
  {
   "cell_type": "code",
   "execution_count": 80,
   "metadata": {
    "collapsed": false
   },
   "outputs": [
    {
     "data": {
      "text/plain": [
       "0.41600000000000004"
      ]
     },
     "execution_count": 80,
     "metadata": {},
     "output_type": "execute_result"
    }
   ],
   "source": [
    "oos_error_thru_phi4"
   ]
  },
  {
   "cell_type": "code",
   "execution_count": 82,
   "metadata": {
    "collapsed": false
   },
   "outputs": [
    {
     "data": {
      "text/plain": [
       "0.18799999999999994"
      ]
     },
     "execution_count": 82,
     "metadata": {},
     "output_type": "execute_result"
    }
   ],
   "source": [
    "oos_error_thru_phi5"
   ]
  },
  {
   "cell_type": "code",
   "execution_count": 83,
   "metadata": {
    "collapsed": false
   },
   "outputs": [
    {
     "data": {
      "text/plain": [
       "0.083999999999999964"
      ]
     },
     "execution_count": 83,
     "metadata": {},
     "output_type": "execute_result"
    }
   ],
   "source": [
    "oos_error_thru_phi6"
   ]
  },
  {
   "cell_type": "code",
   "execution_count": 84,
   "metadata": {
    "collapsed": false
   },
   "outputs": [
    {
     "data": {
      "text/plain": [
       "0.071999999999999953"
      ]
     },
     "execution_count": 84,
     "metadata": {},
     "output_type": "execute_result"
    }
   ],
   "source": [
    "oos_error_thru_phi7"
   ]
  },
  {
   "cell_type": "markdown",
   "metadata": {},
   "source": [
    "## So the answer is [e]: k = 7"
   ]
  },
  {
   "cell_type": "markdown",
   "metadata": {},
   "source": [
    "# Problem 3"
   ]
  },
  {
   "cell_type": "code",
   "execution_count": 85,
   "metadata": {
    "collapsed": true
   },
   "outputs": [],
   "source": [
    "# Resplit into training and validation\n",
    "training_set = training_set_full[-10:]\n",
    "val_set = training_set_full[:-10]\n",
    "X_train = np.array([row[:-1] for row in training_set])\n",
    "Y_train = np.array([row[-1] for row in training_set])\n",
    "X_val = np.array([row[:-1] for row in val_set])\n",
    "Y_val = np.array([row[-1] for row in val_set])\n",
    "X_test = np.array([row[:-1] for row in testing_set_full])\n",
    "Y_test = np.array([row[-1] for row in testing_set_full])"
   ]
  },
  {
   "cell_type": "code",
   "execution_count": 88,
   "metadata": {
    "collapsed": true
   },
   "outputs": [],
   "source": [
    "# Train on phi_0 through phi_3\n",
    "# Do the nonlinear transform\n",
    "k = 3\n",
    "X_transform = np.array([nonlinear_transform(row)[:k+1] for row in X_train])\n",
    "\n",
    "# Run linear regression\n",
    "weights = compute_linreg_weights(X_transform, Y_train)\n",
    "\n",
    "# Get the validation error\n",
    "X_val_transform = np.array([nonlinear_transform(row)[:k+1] for row in X_val])\n",
    "predictions = [predict_linreg(x[:k+1], weights) for x in X_val_transform]\n",
    "val_error_thru_phi3 = 1 - sum(np.equal(predictions, Y_val).astype(int)) / len(Y_val)\n",
    "\n",
    "# Get the out-of-sample error (problem 4)\n",
    "X_test_transform = np.array([nonlinear_transform(row)[:k+1] for row in X_test])\n",
    "predictions_oos = [predict_linreg(x[:k+1], weights) for x in X_test_transform]\n",
    "oos_error_thru_phi3 = 1 - sum(np.equal(predictions_oos, Y_test).astype(int)) / len(Y_test)"
   ]
  },
  {
   "cell_type": "code",
   "execution_count": 89,
   "metadata": {
    "collapsed": false
   },
   "outputs": [
    {
     "data": {
      "text/plain": [
       "0.28000000000000003"
      ]
     },
     "execution_count": 89,
     "metadata": {},
     "output_type": "execute_result"
    }
   ],
   "source": [
    "val_error_thru_phi3"
   ]
  },
  {
   "cell_type": "code",
   "execution_count": 90,
   "metadata": {
    "collapsed": true
   },
   "outputs": [],
   "source": [
    "# Train on phi_0 through phi_4\n",
    "# Do the nonlinear transform\n",
    "k = 4\n",
    "X_transform = np.array([nonlinear_transform(row)[:k+1] for row in X_train])\n",
    "\n",
    "# Run linear regression\n",
    "weights = compute_linreg_weights(X_transform, Y_train)\n",
    "\n",
    "# Get the validation error\n",
    "X_val_transform = np.array([nonlinear_transform(row)[:k+1] for row in X_val])\n",
    "predictions = [predict_linreg(x[:k+1], weights) for x in X_val_transform]\n",
    "val_error_thru_phi4 = 1 - sum(np.equal(predictions, Y_val).astype(int)) / len(Y_val)\n",
    "\n",
    "# Get the out-of-sample error (problem 2)\n",
    "X_test_transform = np.array([nonlinear_transform(row)[:k+1] for row in X_test])\n",
    "predictions_oos = [predict_linreg(x[:k+1], weights) for x in X_test_transform]\n",
    "oos_error_thru_phi4 = 1 - sum(np.equal(predictions_oos, Y_test).astype(int)) / len(Y_test)"
   ]
  },
  {
   "cell_type": "code",
   "execution_count": 91,
   "metadata": {
    "collapsed": false
   },
   "outputs": [
    {
     "data": {
      "text/plain": [
       "0.35999999999999999"
      ]
     },
     "execution_count": 91,
     "metadata": {},
     "output_type": "execute_result"
    }
   ],
   "source": [
    "val_error_thru_phi4"
   ]
  },
  {
   "cell_type": "code",
   "execution_count": 92,
   "metadata": {
    "collapsed": true
   },
   "outputs": [],
   "source": [
    "# Train on phi_0 through phi_5\n",
    "# Do the nonlinear transform\n",
    "k = 5\n",
    "X_transform = np.array([nonlinear_transform(row)[:k+1] for row in X_train])\n",
    "\n",
    "# Run linear regression\n",
    "weights = compute_linreg_weights(X_transform, Y_train)\n",
    "\n",
    "# Get the validation error\n",
    "X_val_transform = np.array([nonlinear_transform(row)[:k+1] for row in X_val])\n",
    "predictions = [predict_linreg(x[:k+1], weights) for x in X_val_transform]\n",
    "val_error_thru_phi5 = 1 - sum(np.equal(predictions, Y_val).astype(int)) / len(Y_val)\n",
    "\n",
    "# Get the out-of-sample error (problem 2)\n",
    "X_test_transform = np.array([nonlinear_transform(row)[:k+1] for row in X_test])\n",
    "predictions_oos = [predict_linreg(x[:k+1], weights) for x in X_test_transform]\n",
    "oos_error_thru_phi5 = 1 - sum(np.equal(predictions_oos, Y_test).astype(int)) / len(Y_test)"
   ]
  },
  {
   "cell_type": "code",
   "execution_count": 93,
   "metadata": {
    "collapsed": false
   },
   "outputs": [
    {
     "data": {
      "text/plain": [
       "0.19999999999999996"
      ]
     },
     "execution_count": 93,
     "metadata": {},
     "output_type": "execute_result"
    }
   ],
   "source": [
    "val_error_thru_phi5"
   ]
  },
  {
   "cell_type": "code",
   "execution_count": 94,
   "metadata": {
    "collapsed": true
   },
   "outputs": [],
   "source": [
    "# Train on phi_0 through phi_6\n",
    "# Do the nonlinear transform\n",
    "k = 6\n",
    "X_transform = np.array([nonlinear_transform(row)[:k+1] for row in X_train])\n",
    "\n",
    "# Run linear regression\n",
    "weights = compute_linreg_weights(X_transform, Y_train)\n",
    "\n",
    "# Get the validation error\n",
    "X_val_transform = np.array([nonlinear_transform(row)[:k+1] for row in X_val])\n",
    "predictions = [predict_linreg(x[:k+1], weights) for x in X_val_transform]\n",
    "val_error_thru_phi6 = 1 - sum(np.equal(predictions, Y_val).astype(int)) / len(Y_val)\n",
    "\n",
    "# Get the out-of-sample error (problem 2)\n",
    "X_test_transform = np.array([nonlinear_transform(row)[:k+1] for row in X_test])\n",
    "predictions_oos = [predict_linreg(x[:k+1], weights) for x in X_test_transform]\n",
    "oos_error_thru_phi6 = 1 - sum(np.equal(predictions_oos, Y_test).astype(int)) / len(Y_test)"
   ]
  },
  {
   "cell_type": "code",
   "execution_count": 95,
   "metadata": {
    "collapsed": false
   },
   "outputs": [
    {
     "data": {
      "text/plain": [
       "0.07999999999999996"
      ]
     },
     "execution_count": 95,
     "metadata": {},
     "output_type": "execute_result"
    }
   ],
   "source": [
    "val_error_thru_phi6"
   ]
  },
  {
   "cell_type": "code",
   "execution_count": 96,
   "metadata": {
    "collapsed": true
   },
   "outputs": [],
   "source": [
    "# Train on phi_0 through phi_7\n",
    "# Do the nonlinear transform\n",
    "k = 7\n",
    "X_transform = np.array([nonlinear_transform(row)[:k+1] for row in X_train])\n",
    "\n",
    "# Run linear regression\n",
    "weights = compute_linreg_weights(X_transform, Y_train)\n",
    "\n",
    "# Get the validation error\n",
    "X_val_transform = np.array([nonlinear_transform(row)[:k+1] for row in X_val])\n",
    "predictions = [predict_linreg(x[:k+1], weights) for x in X_val_transform]\n",
    "val_error_thru_phi7 = 1 - sum(np.equal(predictions, Y_val).astype(int)) / len(Y_val)\n",
    "\n",
    "# Get the out-of-sample error (problem 2)\n",
    "X_test_transform = np.array([nonlinear_transform(row)[:k+1] for row in X_test])\n",
    "predictions_oos = [predict_linreg(x[:k+1], weights) for x in X_test_transform]\n",
    "oos_error_thru_phi7 = 1 - sum(np.equal(predictions_oos, Y_test).astype(int)) / len(Y_test)"
   ]
  },
  {
   "cell_type": "code",
   "execution_count": 97,
   "metadata": {
    "collapsed": false
   },
   "outputs": [
    {
     "data": {
      "text/plain": [
       "0.12"
      ]
     },
     "execution_count": 97,
     "metadata": {},
     "output_type": "execute_result"
    }
   ],
   "source": [
    "val_error_thru_phi7"
   ]
  },
  {
   "cell_type": "markdown",
   "metadata": {},
   "source": [
    "## So the answer is [d]: k = 6"
   ]
  },
  {
   "cell_type": "markdown",
   "metadata": {},
   "source": [
    "# Problem 4"
   ]
  },
  {
   "cell_type": "code",
   "execution_count": 98,
   "metadata": {
    "collapsed": false
   },
   "outputs": [
    {
     "data": {
      "text/plain": [
       "0.39600000000000002"
      ]
     },
     "execution_count": 98,
     "metadata": {},
     "output_type": "execute_result"
    }
   ],
   "source": [
    "oos_error_thru_phi3"
   ]
  },
  {
   "cell_type": "code",
   "execution_count": 99,
   "metadata": {
    "collapsed": false
   },
   "outputs": [
    {
     "data": {
      "text/plain": [
       "0.38800000000000001"
      ]
     },
     "execution_count": 99,
     "metadata": {},
     "output_type": "execute_result"
    }
   ],
   "source": [
    "oos_error_thru_phi4"
   ]
  },
  {
   "cell_type": "code",
   "execution_count": 100,
   "metadata": {
    "collapsed": false
   },
   "outputs": [
    {
     "data": {
      "text/plain": [
       "0.28400000000000003"
      ]
     },
     "execution_count": 100,
     "metadata": {},
     "output_type": "execute_result"
    }
   ],
   "source": [
    "oos_error_thru_phi5"
   ]
  },
  {
   "cell_type": "code",
   "execution_count": 101,
   "metadata": {
    "collapsed": false
   },
   "outputs": [
    {
     "data": {
      "text/plain": [
       "0.19199999999999995"
      ]
     },
     "execution_count": 101,
     "metadata": {},
     "output_type": "execute_result"
    }
   ],
   "source": [
    "oos_error_thru_phi6"
   ]
  },
  {
   "cell_type": "code",
   "execution_count": 102,
   "metadata": {
    "collapsed": false
   },
   "outputs": [
    {
     "data": {
      "text/plain": [
       "0.19599999999999995"
      ]
     },
     "execution_count": 102,
     "metadata": {},
     "output_type": "execute_result"
    }
   ],
   "source": [
    "oos_error_thru_phi7"
   ]
  },
  {
   "cell_type": "markdown",
   "metadata": {},
   "source": [
    "## So the answer is [d]: k = 6"
   ]
  },
  {
   "cell_type": "markdown",
   "metadata": {},
   "source": [
    "# Problems 8 - 10"
   ]
  },
  {
   "cell_type": "code",
   "execution_count": 105,
   "metadata": {
    "collapsed": true
   },
   "outputs": [],
   "source": [
    "#### Helper functions for training a PLA model ####\n",
    "\n",
    "def generate_point():\n",
    "    '''Generate a random point in [-1, 1] x [-1, 1]'''\n",
    "    return [random.uniform(-1, 1), random.uniform(-1, 1)]\n",
    "\n",
    "def define_f():\n",
    "    '''Return a slope and y-intercept based on two random points in\n",
    "       [-1, 1] x [-1, 1]. This defines the function f(x) = slope * x + y_int. \n",
    "       This can fail if f is vertical. However, this is extremely unlikely given \n",
    "       that our two points are chosen randomly. If it does fail, we'll get an error.'''\n",
    "    p1 = generate_point()\n",
    "    p2 = generate_point()\n",
    "    slope = (p2[1] - p1[1]) / (p2[0] - p1[0])\n",
    "    y_int = (-1 * slope * p1[0]) + p1[1] # From point-slope form\n",
    "    return slope, y_int\n",
    "\n",
    "def evaluate_point(pt, slope, y_int):\n",
    "    ''' Return 1 if the point is above f, -1 otherwise'''\n",
    "    if pt[1] >= slope * pt[0] + y_int: # pt[0] is x coord, pt[1] is y coord\n",
    "        return 1\n",
    "    return -1\n",
    "\n",
    "def build_training_set(N, slope, y_int):\n",
    "    '''Build a set of N training points of the form ([1.0, x1, x2], y). The 1.0 is the\n",
    "       artificial coordinate used to simplify the math. x1 and x2 come from\n",
    "       [-1, 1] x [-1, 1], and y is -1 or +1, depending on whether the point (x1, x2) is\n",
    "       above or below f. f is defined by f(x) = slope * x + y_int'''\n",
    "    training_set = []\n",
    "    for i in range(N):\n",
    "        xn = generate_point() \n",
    "        yn = evaluate_point(xn, slope, y_int)\n",
    "        training_set.append(([1.] + xn, yn)) # Note the artificial coordinate\n",
    "    # If all points are on the same side of the line, try again.\n",
    "    all_ys = [tup[1] for tup in training_set]\n",
    "    if len(set(all_ys)) == 1:\n",
    "        return build_training_set(N, slope, y_int) # Try again; not guaranteed to terminate but\n",
    "                                                   # almost certainly will.\n",
    "    return training_set\n",
    "    \n",
    "def eval_PLA(pt, weights):\n",
    "    '''Classify the given point as +1 or -1 based on the the given weights vector'''\n",
    "    return np.sign(np.dot(weights, np.array(pt)))\n",
    "\n",
    "def train_PLA(training_set):\n",
    "    '''Train the PLA on training_set until it converges to f. \n",
    "       Return the number of iterations needed, along with the \n",
    "       final weight vector.'''\n",
    "    W = np.zeros(3) # weight vector; we use 3 dimensions because we have x, y, \n",
    "                    # and the threshold\n",
    "    num_iters = 0\n",
    "    missed_pts = [pair for pair in training_set if pair[1] != eval_PLA(pair[0], W)]\n",
    "    \n",
    "    while missed_pts != []:\n",
    "        missed_pt = random.choice(missed_pts)\n",
    "        missed_y = missed_pt[1]\n",
    "        missed_x = np.array(missed_pt[0]) # this is a vector\n",
    "        W += missed_y * missed_x # Update the weight vector\n",
    "        missed_pts = [pair for pair in training_set if pair[1] != eval_PLA(pair[0], W)]\n",
    "        num_iters += 1\n",
    "        \n",
    "    return num_iters, W"
   ]
  },
  {
   "cell_type": "code",
   "execution_count": 184,
   "metadata": {
    "collapsed": false
   },
   "outputs": [],
   "source": [
    "# Problem 8\n",
    "N = 10\n",
    "TEST_SET_SIZE = 1000\n",
    "NUM_SIM = 1000\n",
    "\n",
    "svm_better_count = 0\n",
    "support_vec_count = 0\n",
    "\n",
    "for _ in range(NUM_SIM):\n",
    "    slope, y_int = define_f()\n",
    "    training_set = build_training_set(N, slope, y_int)\n",
    "    \n",
    "    # Train PLA\n",
    "    _, g_pla = train_PLA(training_set)\n",
    "    \n",
    "    # Calcuate OOS error for PLA\n",
    "    test_set = build_training_set(TEST_SET_SIZE, slope, y_int) # Poor function name; sry\n",
    "    predictions_pla = [eval_PLA(t[0], g_pla) for t in test_set]\n",
    "    oos_error_pla = 1 - sum(np.equal(predictions_pla, np.array([t[1] for t in test_set])).astype(int) / len(test_set))\n",
    "    \n",
    "    # Train SVM\n",
    "    svm = SVC(C=10000000, kernel='linear') # Large C for hard margin\n",
    "    X = [t[0] for t in training_set]\n",
    "    Y = [t[1] for t in training_set]\n",
    "    svm.fit(X, Y)\n",
    "    \n",
    "    # Calculate OOS error for SVM\n",
    "    predictions_svm = [svm.predict(np.array(t[0]).reshape(1, -1))[0] for t in test_set]\n",
    "    oos_error_svm = 1 - sum(np.equal(predictions_svm, np.array([t[1] for t in test_set])).astype(int) / len(test_set))\n",
    "    \n",
    "    # Check if SVM beat PLA\n",
    "    if oos_error_svm < oos_error_pla:\n",
    "        svm_better_count += 1\n",
    "        \n",
    "    # Count support vectors\n",
    "    support_vec_count += sum(svm.n_support_)\n",
    "    \n",
    "    "
   ]
  },
  {
   "cell_type": "code",
   "execution_count": 185,
   "metadata": {
    "collapsed": false
   },
   "outputs": [
    {
     "data": {
      "text/plain": [
       "0.631"
      ]
     },
     "execution_count": 185,
     "metadata": {},
     "output_type": "execute_result"
    }
   ],
   "source": [
    "svm_better_count / NUM_SIM"
   ]
  },
  {
   "cell_type": "markdown",
   "metadata": {},
   "source": [
    "## So the answer to question 8 is [c]: 60%."
   ]
  },
  {
   "cell_type": "code",
   "execution_count": 212,
   "metadata": {
    "collapsed": true
   },
   "outputs": [],
   "source": [
    "# Problem 9\n",
    "N = 100\n",
    "TEST_SET_SIZE = 1000\n",
    "NUM_SIM = 1000\n",
    "\n",
    "svm_better_count = 0\n",
    "support_vec_count = 0\n",
    "\n",
    "for _ in range(NUM_SIM):\n",
    "    slope, y_int = define_f()\n",
    "    training_set = build_training_set(N, slope, y_int)\n",
    "    \n",
    "    # Train PLA\n",
    "    _, g_pla = train_PLA(training_set)\n",
    "    \n",
    "    # Calcuate OOS error for PLA\n",
    "    test_set = build_training_set(TEST_SET_SIZE, slope, y_int) # Poor function name; sry\n",
    "    predictions_pla = [eval_PLA(t[0], g_pla) for t in test_set]\n",
    "    oos_error_pla = 1 - sum(np.equal(predictions_pla, np.array([t[1] for t in test_set])).astype(int) / len(test_set))\n",
    "    \n",
    "    # Train SVM\n",
    "    svm = SVC(C=10000000, kernel='linear') # Large C for hard margin\n",
    "    X = [t[0] for t in training_set]\n",
    "    Y = [t[1] for t in training_set]\n",
    "    svm.fit(X, Y)\n",
    "    \n",
    "    # Calculate OOS error for SVM\n",
    "    predictions_svm = [svm.predict(np.array(t[0]).reshape(1, -1))[0] for t in test_set]\n",
    "    oos_error_svm = 1 - sum(np.equal(predictions_svm, np.array([t[1] for t in test_set])).astype(int) / len(test_set))\n",
    "    \n",
    "    # Check if SVM beat PLA\n",
    "    if oos_error_svm < oos_error_pla:\n",
    "        svm_better_count += 1\n",
    "        \n",
    "    # Count support vectors\n",
    "    support_vec_count += sum(svm.n_support_)\n",
    "    \n",
    "    "
   ]
  },
  {
   "cell_type": "code",
   "execution_count": 213,
   "metadata": {
    "collapsed": false
   },
   "outputs": [
    {
     "data": {
      "text/plain": [
       "0.62"
      ]
     },
     "execution_count": 213,
     "metadata": {},
     "output_type": "execute_result"
    }
   ],
   "source": [
    "svm_better_count / NUM_SIM"
   ]
  },
  {
   "cell_type": "markdown",
   "metadata": {},
   "source": [
    "# So the answer to 9 is [d]: 70%."
   ]
  },
  {
   "cell_type": "code",
   "execution_count": 214,
   "metadata": {
    "collapsed": false
   },
   "outputs": [
    {
     "data": {
      "text/plain": [
       "2.9929999999999999"
      ]
     },
     "execution_count": 214,
     "metadata": {},
     "output_type": "execute_result"
    }
   ],
   "source": [
    "support_vec_count / NUM_SIM"
   ]
  },
  {
   "cell_type": "markdown",
   "metadata": {},
   "source": [
    "## So the answer to 10 is [b]: 3."
   ]
  },
  {
   "cell_type": "code",
   "execution_count": null,
   "metadata": {
    "collapsed": true
   },
   "outputs": [],
   "source": []
  }
 ],
 "metadata": {
  "kernelspec": {
   "display_name": "Python 3",
   "language": "python",
   "name": "python3"
  },
  "language_info": {
   "codemirror_mode": {
    "name": "ipython",
    "version": 3
   },
   "file_extension": ".py",
   "mimetype": "text/x-python",
   "name": "python",
   "nbconvert_exporter": "python",
   "pygments_lexer": "ipython3",
   "version": "3.5.2"
  }
 },
 "nbformat": 4,
 "nbformat_minor": 0
}
