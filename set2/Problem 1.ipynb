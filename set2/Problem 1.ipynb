{
 "cells": [
  {
   "cell_type": "code",
   "execution_count": 8,
   "metadata": {
    "collapsed": false
   },
   "outputs": [],
   "source": [
    "import random\n",
    "import pickle as pkl"
   ]
  },
  {
   "cell_type": "code",
   "execution_count": 3,
   "metadata": {
    "collapsed": false
   },
   "outputs": [],
   "source": [
    "v1_vals = []\n",
    "v_rand_vals = []\n",
    "v_min_vals = []\n",
    "\n",
    "NUM_TRIALS = 100000\n",
    "NUM_COINS = 1000\n",
    "NUM_FLIPS = 10\n",
    "\n",
    "for _ in range(NUM_TRIALS):\n",
    "    coins = [[random.randint(0, 1) for _ in range(NUM_FLIPS)] for _ in range(NUM_COINS)]\n",
    "\n",
    "    c1 = coins[0]\n",
    "    c_rand = random.choice(coins)\n",
    "\n",
    "    # We need to find c_min\n",
    "    heads_counts = map(sum, coins)\n",
    "    min_count = 11 # more than any count\n",
    "    min_idx = -1\n",
    "    for i, count in enumerate(heads_counts):\n",
    "        if count < min_count:\n",
    "            min_count = count\n",
    "            min_idx = i\n",
    "    c_min = coins[min_idx]\n",
    "\n",
    "    # Now we can get the relevant heads fractions\n",
    "    v1 = sum(c1) / NUM_FLIPS\n",
    "    v_rand = sum(c_rand) / NUM_FLIPS\n",
    "    v_min = min_count / NUM_FLIPS\n",
    "    \n",
    "    v1_vals.append(v1)\n",
    "    v_rand_vals.append(v_rand)\n",
    "    v_min_vals.append(v_min)\n"
   ]
  },
  {
   "cell_type": "code",
   "execution_count": 16,
   "metadata": {
    "collapsed": false
   },
   "outputs": [],
   "source": [
    "# Let's pickle these results, just in case\n",
    "pkl.dump(v1_vals, open('v1_vals.pkl', 'wb'))\n",
    "pkl.dump(v_rand_vals, open('v_rand_vals.pkl', 'wb'))\n",
    "pkl.dump(v_min_vals, open('v_min_vals.pkl', 'wb'))"
   ]
  },
  {
   "cell_type": "markdown",
   "metadata": {
    "collapsed": true
   },
   "source": [
    "# Problem 1"
   ]
  },
  {
   "cell_type": "code",
   "execution_count": 17,
   "metadata": {
    "collapsed": false
   },
   "outputs": [
    {
     "data": {
      "text/plain": [
       "0.03765099999997672"
      ]
     },
     "execution_count": 17,
     "metadata": {},
     "output_type": "execute_result"
    }
   ],
   "source": [
    "sum(v_min_vals) / len(v_min_vals)"
   ]
  },
  {
   "cell_type": "markdown",
   "metadata": {},
   "source": [
    "This corresponds to answer [b]."
   ]
  }
 ],
 "metadata": {
  "kernelspec": {
   "display_name": "Python 3",
   "language": "python",
   "name": "python3"
  },
  "language_info": {
   "codemirror_mode": {
    "name": "ipython",
    "version": 3
   },
   "file_extension": ".py",
   "mimetype": "text/x-python",
   "name": "python",
   "nbconvert_exporter": "python",
   "pygments_lexer": "ipython3",
   "version": "3.5.2"
  }
 },
 "nbformat": 4,
 "nbformat_minor": 0
}
