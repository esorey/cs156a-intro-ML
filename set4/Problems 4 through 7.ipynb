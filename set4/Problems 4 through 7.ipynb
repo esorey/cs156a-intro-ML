{
 "cells": [
  {
   "cell_type": "code",
   "execution_count": 146,
   "metadata": {
    "collapsed": false
   },
   "outputs": [],
   "source": [
    "import random\n",
    "import numpy as np\n",
    "from numpy.linalg import inv"
   ]
  },
  {
   "cell_type": "code",
   "execution_count": 132,
   "metadata": {
    "collapsed": true
   },
   "outputs": [],
   "source": [
    "def generate_sine_point():\n",
    "    '''Generate a random (x, y) pair where y = sin(pi * x), and x lies in [-1, 1].'''\n",
    "    x = random.uniform(-1, 1)\n",
    "    y = np.sin(np.pi * x)\n",
    "    return [x, y]"
   ]
  },
  {
   "cell_type": "markdown",
   "metadata": {},
   "source": [
    "# Problem 4"
   ]
  },
  {
   "cell_type": "code",
   "execution_count": 133,
   "metadata": {
    "collapsed": false
   },
   "outputs": [
    {
     "data": {
      "text/plain": [
       "1.4295550856546624"
      ]
     },
     "execution_count": 133,
     "metadata": {},
     "output_type": "execute_result"
    }
   ],
   "source": [
    "NUM_TRIALS = 1000000\n",
    "\n",
    "slope_sum = 0\n",
    "\n",
    "for i in range(NUM_TRIALS):\n",
    "    # Generate two random points\n",
    "    p1 = generate_sine_point()\n",
    "    p2 = generate_sine_point()\n",
    "\n",
    "    # Find the linear regression weight (slope of the line). The formula below\n",
    "    # corresponds to linear regression with two points and one parameter.\n",
    "    slope = (p1[0]*p1[1] + p2[0]*p2[1]) / (p1[0]**2 + p2[0]**2)\n",
    "    \n",
    "    slope_sum += slope\n",
    "    \n",
    "slope_sum / NUM_TRIALS"
   ]
  },
  {
   "cell_type": "markdown",
   "metadata": {},
   "source": [
    "# Problem 6"
   ]
  },
  {
   "cell_type": "code",
   "execution_count": 138,
   "metadata": {
    "collapsed": false
   },
   "outputs": [
    {
     "data": {
      "text/plain": [
       "0.23603895844768086"
      ]
     },
     "execution_count": 138,
     "metadata": {},
     "output_type": "execute_result"
    }
   ],
   "source": [
    "# Variance calculation\n",
    "\n",
    "NUM_TRIALS = 100000\n",
    "\n",
    "div_integral_sum = 0\n",
    "\n",
    "for i in range(NUM_TRIALS):\n",
    "    # Generate two random points\n",
    "    p1 = generate_sine_point()\n",
    "    p2 = generate_sine_point()\n",
    "\n",
    "    # Find the linear regression weight (slope of the line). The formula below\n",
    "    # corresponds to linear regression with two points and one parameter.\n",
    "    slope = (p1[0]*p1[1] + p2[0]*p2[1]) / (p1[0]**2 + p2[0]**2)\n",
    "    \n",
    "    # This is the integral of the squared difference between this fit line\n",
    "    # and g_bar(x) (from #4), divided by the length of the interval [-1, 1].\n",
    "    div_integral = (1/3) * (slope - 1.43) ** 2\n",
    "    \n",
    "    div_integral_sum += div_integral\n",
    "    \n",
    "\n",
    "# Get the average    \n",
    "div_integral_sum / NUM_TRIALS"
   ]
  },
  {
   "cell_type": "markdown",
   "metadata": {},
   "source": [
    "# Problem 7"
   ]
  },
  {
   "cell_type": "markdown",
   "metadata": {},
   "source": [
    "## Choice d : h(x) = ax^2"
   ]
  },
  {
   "cell_type": "code",
   "execution_count": 237,
   "metadata": {
    "collapsed": false
   },
   "outputs": [
    {
     "data": {
      "text/plain": [
       "array([-0.00234729])"
      ]
     },
     "execution_count": 237,
     "metadata": {},
     "output_type": "execute_result"
    }
   ],
   "source": [
    "NUM_TRIALS = 10000000\n",
    "\n",
    "weights_sum = np.zeros(1)\n",
    "\n",
    "for i in range(NUM_TRIALS):\n",
    "    # Generate two random points\n",
    "    p1 = generate_sine_point()\n",
    "    p2 = generate_sine_point()\n",
    "    \n",
    "    # Do linear regression using ax^2 model\n",
    "    X = np.array([[p1[0]**2], [p2[0]**2]])\n",
    "    Y = np.array([p1[1], p2[1]])\n",
    "    pseudo_inv = np.dot(inv((np.dot(X.T, X))), X.T)\n",
    "    weights = np.dot(pseudo_inv, Y)\n",
    "    \n",
    "    weights_sum += weights\n",
    "    \n",
    "weights_sum / NUM_TRIALS"
   ]
  },
  {
   "cell_type": "code",
   "execution_count": 241,
   "metadata": {
    "collapsed": false
   },
   "outputs": [
    {
     "data": {
      "text/plain": [
       "21.500791584731559"
      ]
     },
     "execution_count": 241,
     "metadata": {},
     "output_type": "execute_result"
    }
   ],
   "source": [
    "NUM_TRIALS = 1000000\n",
    "\n",
    "var_sum = 0\n",
    "\n",
    "for i in range(NUM_TRIALS):\n",
    "    # Generate two random points\n",
    "    p1 = generate_sine_point()\n",
    "    p2 = generate_sine_point()\n",
    "\n",
    "    # Do linear regression using ax^2 model\n",
    "    X = np.array([[p1[0]**2], [p2[0]**2]])\n",
    "    Y = np.array([p1[1], p2[1]])\n",
    "    pseudo_inv = np.dot(inv((np.dot(X.T, X))), X.T)\n",
    "    weights = np.dot(pseudo_inv, Y)\n",
    "    \n",
    "    div_integral = (1/5) * (weights[0] + .00234729)**2\n",
    "    var_sum += div_integral\n",
    "    \n",
    "var_sum / NUM_TRIALS"
   ]
  },
  {
   "cell_type": "code",
   "execution_count": 226,
   "metadata": {
    "collapsed": false
   },
   "outputs": [],
   "source": [
    "import matplotlib.pyplot as plt\n",
    "x = np.linspace(-1, 1, 100)\n",
    "y = weights[0] * x**2\n",
    "plt.figure()\n",
    "plt.plot(x,y)\n",
    "plt.plot([p1[0], p2[0]], [p1[1], p2[1]], 'ro')\n",
    "plt.axis([-1, 1, -1, 1])\n",
    "plt.show()"
   ]
  },
  {
   "cell_type": "markdown",
   "metadata": {},
   "source": [
    "## Choice e : h(x) = ax^2 + b"
   ]
  },
  {
   "cell_type": "code",
   "execution_count": 245,
   "metadata": {
    "collapsed": false
   },
   "outputs": [
    {
     "data": {
      "text/plain": [
       "array([-0.0287591 , -2.17788409])"
      ]
     },
     "execution_count": 245,
     "metadata": {},
     "output_type": "execute_result"
    }
   ],
   "source": [
    "NUM_TRIALS = 1000000\n",
    "\n",
    "weights_sum = np.zeros(2)\n",
    "\n",
    "for i in range(NUM_TRIALS):\n",
    "    # Generate two random points\n",
    "    p1 = generate_sine_point()\n",
    "    p2 = generate_sine_point()\n",
    "    \n",
    "    # Do linear regression using ax^2 + b model\n",
    "    X = np.array([[1., p1[0]**2], [1., p2[0]**2]])\n",
    "    Y = np.array([p1[1], p2[1]])\n",
    "    pseudo_inv = np.dot(inv((np.dot(X.T, X))), X.T)\n",
    "    weights = np.dot(pseudo_inv, Y)\n",
    "    \n",
    "    weights_sum += weights\n",
    "    \n",
    "weights_sum / NUM_TRIALS"
   ]
  },
  {
   "cell_type": "code",
   "execution_count": 247,
   "metadata": {
    "collapsed": false
   },
   "outputs": [
    {
     "data": {
      "text/plain": [
       "array([-0.24475387,  4.19007489])"
      ]
     },
     "execution_count": 247,
     "metadata": {},
     "output_type": "execute_result"
    }
   ],
   "source": [
    "NUM_TRIALS = 1000000\n",
    "\n",
    "weights_sum = np.zeros(2)\n",
    "\n",
    "for i in range(NUM_TRIALS):\n",
    "    # Generate two random points\n",
    "    p1 = generate_sine_point()\n",
    "    p2 = generate_sine_point()\n",
    "    \n",
    "    # Do linear regression using ax^2 + b model\n",
    "    X = np.array([[1., p1[0]**2], [1., p2[0]**2]])\n",
    "    Y = np.array([p1[1], p2[1]])\n",
    "    pseudo_inv = np.dot(inv((np.dot(X.T, X))), X.T)\n",
    "    weights = np.dot(pseudo_inv, Y)\n",
    "    \n",
    "    weights_sum += weights\n",
    "    \n",
    "weights_sum / NUM_TRIALS"
   ]
  },
  {
   "cell_type": "code",
   "execution_count": null,
   "metadata": {
    "collapsed": true
   },
   "outputs": [],
   "source": []
  }
 ],
 "metadata": {
  "kernelspec": {
   "display_name": "Python 3",
   "language": "python",
   "name": "python3"
  },
  "language_info": {
   "codemirror_mode": {
    "name": "ipython",
    "version": 3
   },
   "file_extension": ".py",
   "mimetype": "text/x-python",
   "name": "python",
   "nbconvert_exporter": "python",
   "pygments_lexer": "ipython3",
   "version": "3.5.2"
  }
 },
 "nbformat": 4,
 "nbformat_minor": 0
}
