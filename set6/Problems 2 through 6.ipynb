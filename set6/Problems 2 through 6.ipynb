{
 "cells": [
  {
   "cell_type": "code",
   "execution_count": 3,
   "metadata": {
    "collapsed": true
   },
   "outputs": [],
   "source": [
    "import numpy as np\n",
    "import csv"
   ]
  },
  {
   "cell_type": "code",
   "execution_count": 75,
   "metadata": {
    "collapsed": true
   },
   "outputs": [],
   "source": [
    "def compute_linreg_weights(X_mat, y_vec):\n",
    "    '''Takes a matrix of training values X_mat (each row is a training instance) and\n",
    "       a target vector y_vec and computes the linear regression weight vector for the\n",
    "       data.'''\n",
    "    pseudo_inv = np.dot(np.linalg.inv((np.dot(X_mat.T, X_mat))), X_mat.T)\n",
    "    return np.dot(pseudo_inv, y_vec)\n",
    "\n",
    "def predict_linreg(x, weights):\n",
    "    '''Uses a pre-trained linear regression model (given by weights) to predict a binary\n",
    "       target function given data x.'''\n",
    "    return np.sign(np.dot(weights, x))\n",
    "\n",
    "def nonlinear_transform(x_arr):\n",
    "    '''Compute the nonlinear transform (x1, x1) -> (1, x1, x2, x1^2, x2^2, x1x2, |x1 - x2|,\n",
    "       |x1 + x2|).'''\n",
    "    x1 = x_arr[0]\n",
    "    x2 = x_arr[1]\n",
    "    return np.array([1., x1, x2, x1**2, x2**2, x1 * x2, np.abs(x1 - x2),\n",
    "       np.abs(x1 + x2)])\n",
    "\n",
    "def compute_linreg_weights_weight_decay(X_mat, y_vec, lam):\n",
    "    '''Takes a matrix of training values X_mat (each row is a training instance) and\n",
    "       a target vector y_vec and lambda and computes the linear regression weight vector for the\n",
    "       data, using weight decay regularization with parameter lam.'''\n",
    "    dim = len(X_mat[0])\n",
    "    pseudo_inv = np.dot(np.linalg.inv((np.dot(X_mat.T, X_mat) + lam * np.identity(dim))), X_mat.T)\n",
    "    return np.dot(pseudo_inv, y_vec)"
   ]
  },
  {
   "cell_type": "markdown",
   "metadata": {},
   "source": [
    "# Problem 2"
   ]
  },
  {
   "cell_type": "code",
   "execution_count": 58,
   "metadata": {
    "collapsed": false
   },
   "outputs": [],
   "source": [
    "training_file = csv.reader(open('in.dta', 'r'), delimiter='\\t')\n",
    "training_set = np.array([list(map(float, row[0].strip().split())) for row in training_file])\n",
    "testing_file = csv.reader(open('out.dta', 'r'), delimiter='\\t')\n",
    "testing_set = np.array([list(map(float, row[0].strip().split())) for row in testing_file])\n",
    "X = np.array([row[:-1] for row in training_set])\n",
    "Y = np.array([row[-1] for row in training_set])"
   ]
  },
  {
   "cell_type": "code",
   "execution_count": 46,
   "metadata": {
    "collapsed": false
   },
   "outputs": [],
   "source": [
    "# Do the nonlinear transform\n",
    "X_transform = np.array([nonlinear_transform(row) for row in X])\n",
    "\n",
    "# Run linear regression\n",
    "weights = compute_linreg_weights(X_transform, Y)"
   ]
  },
  {
   "cell_type": "code",
   "execution_count": 64,
   "metadata": {
    "collapsed": false
   },
   "outputs": [],
   "source": [
    "# Get the in-sample error\n",
    "in_sample_predictions = np.array([predict_linreg(row, weights) for row in X_transform])\n",
    "in_sample_error = 1 - sum(np.equal(in_sample_predictions, Y).astype(int)) / len(X)\n",
    "\n",
    "# Get the out-of-sample error\n",
    "X_out_of_sample = np.array([row[:-1] for row in testing_set])\n",
    "Y_out_of_sample = np.array([row[-1] for row in testing_set])\n",
    "out_of_sample_predictions = np.array([predict_linreg(nonlinear_transform(row), weights) for row in X_out_of_sample])\n",
    "out_of_sample_error = 1 - sum(np.equal(out_of_sample_predictions, Y_out_of_sample).astype(int)) / len(X_out_of_sample)\n"
   ]
  },
  {
   "cell_type": "code",
   "execution_count": 57,
   "metadata": {
    "collapsed": false
   },
   "outputs": [
    {
     "data": {
      "text/plain": [
       "0.028571428571428581"
      ]
     },
     "execution_count": 57,
     "metadata": {},
     "output_type": "execute_result"
    }
   ],
   "source": [
    "in_sample_error"
   ]
  },
  {
   "cell_type": "code",
   "execution_count": 65,
   "metadata": {
    "collapsed": false
   },
   "outputs": [
    {
     "data": {
      "text/plain": [
       "0.083999999999999964"
      ]
     },
     "execution_count": 65,
     "metadata": {},
     "output_type": "execute_result"
    }
   ],
   "source": [
    "out_of_sample_error"
   ]
  },
  {
   "cell_type": "markdown",
   "metadata": {},
   "source": [
    "# Problem 3"
   ]
  },
  {
   "cell_type": "code",
   "execution_count": 78,
   "metadata": {
    "collapsed": false
   },
   "outputs": [],
   "source": [
    "# k = -3, lambda = 10^k\n",
    "lam = .001\n",
    "\n",
    "# Run linear regression with weight decay regularization\n",
    "weights = compute_linreg_weights_weight_decay(X_transform, Y, lam)\n",
    "\n",
    "# Get the in-sample error\n",
    "in_sample_predictions = np.array([predict_linreg(row, weights) for row in X_transform])\n",
    "in_sample_error = 1 - sum(np.equal(in_sample_predictions, Y).astype(int)) / len(X)\n",
    "\n",
    "# Get the out-of-sample error\n",
    "X_out_of_sample = np.array([row[:-1] for row in testing_set])\n",
    "Y_out_of_sample = np.array([row[-1] for row in testing_set])\n",
    "out_of_sample_predictions = np.array([predict_linreg(nonlinear_transform(row), weights) for row in X_out_of_sample])\n",
    "out_of_sample_error = 1 - sum(np.equal(out_of_sample_predictions, Y_out_of_sample).astype(int)) / len(X_out_of_sample)"
   ]
  },
  {
   "cell_type": "code",
   "execution_count": 79,
   "metadata": {
    "collapsed": false
   },
   "outputs": [
    {
     "data": {
      "text/plain": [
       "0.028571428571428581"
      ]
     },
     "execution_count": 79,
     "metadata": {},
     "output_type": "execute_result"
    }
   ],
   "source": [
    "in_sample_error"
   ]
  },
  {
   "cell_type": "code",
   "execution_count": 80,
   "metadata": {
    "collapsed": false
   },
   "outputs": [
    {
     "data": {
      "text/plain": [
       "0.07999999999999996"
      ]
     },
     "execution_count": 80,
     "metadata": {},
     "output_type": "execute_result"
    }
   ],
   "source": [
    "out_of_sample_error"
   ]
  },
  {
   "cell_type": "markdown",
   "metadata": {},
   "source": [
    "# Problem 4"
   ]
  },
  {
   "cell_type": "code",
   "execution_count": 81,
   "metadata": {
    "collapsed": true
   },
   "outputs": [],
   "source": [
    "# k = 3, lambda = 10^k\n",
    "lam = 1000\n",
    "\n",
    "# Run linear regression with weight decay regularization\n",
    "weights = compute_linreg_weights_weight_decay(X_transform, Y, lam)\n",
    "\n",
    "# Get the in-sample error\n",
    "in_sample_predictions = np.array([predict_linreg(row, weights) for row in X_transform])\n",
    "in_sample_error = 1 - sum(np.equal(in_sample_predictions, Y).astype(int)) / len(X)\n",
    "\n",
    "# Get the out-of-sample error\n",
    "X_out_of_sample = np.array([row[:-1] for row in testing_set])\n",
    "Y_out_of_sample = np.array([row[-1] for row in testing_set])\n",
    "out_of_sample_predictions = np.array([predict_linreg(nonlinear_transform(row), weights) for row in X_out_of_sample])\n",
    "out_of_sample_error = 1 - sum(np.equal(out_of_sample_predictions, Y_out_of_sample).astype(int)) / len(X_out_of_sample)"
   ]
  },
  {
   "cell_type": "code",
   "execution_count": 82,
   "metadata": {
    "collapsed": false
   },
   "outputs": [
    {
     "data": {
      "text/plain": [
       "0.37142857142857144"
      ]
     },
     "execution_count": 82,
     "metadata": {},
     "output_type": "execute_result"
    }
   ],
   "source": [
    "in_sample_error"
   ]
  },
  {
   "cell_type": "code",
   "execution_count": 83,
   "metadata": {
    "collapsed": false
   },
   "outputs": [
    {
     "data": {
      "text/plain": [
       "0.43600000000000005"
      ]
     },
     "execution_count": 83,
     "metadata": {},
     "output_type": "execute_result"
    }
   ],
   "source": [
    "out_of_sample_error"
   ]
  },
  {
   "cell_type": "markdown",
   "metadata": {},
   "source": [
    "# Problem 5"
   ]
  },
  {
   "cell_type": "code",
   "execution_count": 84,
   "metadata": {
    "collapsed": true
   },
   "outputs": [],
   "source": [
    "# k = 2, lambda = 10^k\n",
    "lam = 100\n",
    "\n",
    "# Run linear regression with weight decay regularization\n",
    "weights = compute_linreg_weights_weight_decay(X_transform, Y, lam)\n",
    "\n",
    "# Get the out-of-sample error\n",
    "X_out_of_sample = np.array([row[:-1] for row in testing_set])\n",
    "Y_out_of_sample = np.array([row[-1] for row in testing_set])\n",
    "out_of_sample_predictions = np.array([predict_linreg(nonlinear_transform(row), weights) for row in X_out_of_sample])\n",
    "out_of_sample_error = 1 - sum(np.equal(out_of_sample_predictions, Y_out_of_sample).astype(int)) / len(X_out_of_sample)"
   ]
  },
  {
   "cell_type": "code",
   "execution_count": 85,
   "metadata": {
    "collapsed": false
   },
   "outputs": [
    {
     "data": {
      "text/plain": [
       "0.22799999999999998"
      ]
     },
     "execution_count": 85,
     "metadata": {},
     "output_type": "execute_result"
    }
   ],
   "source": [
    "out_of_sample_error"
   ]
  },
  {
   "cell_type": "code",
   "execution_count": 86,
   "metadata": {
    "collapsed": true
   },
   "outputs": [],
   "source": [
    "# k = 1, lambda = 10^k\n",
    "lam = 10\n",
    "\n",
    "# Run linear regression with weight decay regularization\n",
    "weights = compute_linreg_weights_weight_decay(X_transform, Y, lam)\n",
    "\n",
    "# Get the out-of-sample error\n",
    "X_out_of_sample = np.array([row[:-1] for row in testing_set])\n",
    "Y_out_of_sample = np.array([row[-1] for row in testing_set])\n",
    "out_of_sample_predictions = np.array([predict_linreg(nonlinear_transform(row), weights) for row in X_out_of_sample])\n",
    "out_of_sample_error = 1 - sum(np.equal(out_of_sample_predictions, Y_out_of_sample).astype(int)) / len(X_out_of_sample)"
   ]
  },
  {
   "cell_type": "code",
   "execution_count": 87,
   "metadata": {
    "collapsed": false
   },
   "outputs": [
    {
     "data": {
      "text/plain": [
       "0.124"
      ]
     },
     "execution_count": 87,
     "metadata": {},
     "output_type": "execute_result"
    }
   ],
   "source": [
    "out_of_sample_error"
   ]
  },
  {
   "cell_type": "code",
   "execution_count": 88,
   "metadata": {
    "collapsed": true
   },
   "outputs": [],
   "source": [
    "# k = 0, lambda = 10^k\n",
    "lam = 1\n",
    "\n",
    "# Run linear regression with weight decay regularization\n",
    "weights = compute_linreg_weights_weight_decay(X_transform, Y, lam)\n",
    "\n",
    "# Get the out-of-sample error\n",
    "X_out_of_sample = np.array([row[:-1] for row in testing_set])\n",
    "Y_out_of_sample = np.array([row[-1] for row in testing_set])\n",
    "out_of_sample_predictions = np.array([predict_linreg(nonlinear_transform(row), weights) for row in X_out_of_sample])\n",
    "out_of_sample_error = 1 - sum(np.equal(out_of_sample_predictions, Y_out_of_sample).astype(int)) / len(X_out_of_sample)"
   ]
  },
  {
   "cell_type": "code",
   "execution_count": 89,
   "metadata": {
    "collapsed": false
   },
   "outputs": [
    {
     "data": {
      "text/plain": [
       "0.091999999999999971"
      ]
     },
     "execution_count": 89,
     "metadata": {},
     "output_type": "execute_result"
    }
   ],
   "source": [
    "out_of_sample_error"
   ]
  },
  {
   "cell_type": "code",
   "execution_count": 93,
   "metadata": {
    "collapsed": true
   },
   "outputs": [],
   "source": [
    "# k = -1, lambda = 10^k\n",
    "lam = 0.1\n",
    "\n",
    "# Run linear regression with weight decay regularization\n",
    "weights = compute_linreg_weights_weight_decay(X_transform, Y, lam)\n",
    "\n",
    "# Get the out-of-sample error\n",
    "X_out_of_sample = np.array([row[:-1] for row in testing_set])\n",
    "Y_out_of_sample = np.array([row[-1] for row in testing_set])\n",
    "out_of_sample_predictions = np.array([predict_linreg(nonlinear_transform(row), weights) for row in X_out_of_sample])\n",
    "out_of_sample_error = 1 - sum(np.equal(out_of_sample_predictions, Y_out_of_sample).astype(int)) / len(X_out_of_sample)"
   ]
  },
  {
   "cell_type": "code",
   "execution_count": 94,
   "metadata": {
    "collapsed": false
   },
   "outputs": [
    {
     "data": {
      "text/plain": [
       "0.05600000000000005"
      ]
     },
     "execution_count": 94,
     "metadata": {},
     "output_type": "execute_result"
    }
   ],
   "source": [
    "out_of_sample_error"
   ]
  },
  {
   "cell_type": "code",
   "execution_count": 95,
   "metadata": {
    "collapsed": true
   },
   "outputs": [],
   "source": [
    "# k = -2, lambda = 10^k\n",
    "lam = .01\n",
    "\n",
    "# Run linear regression with weight decay regularization\n",
    "weights = compute_linreg_weights_weight_decay(X_transform, Y, lam)\n",
    "\n",
    "# Get the out-of-sample error\n",
    "X_out_of_sample = np.array([row[:-1] for row in testing_set])\n",
    "Y_out_of_sample = np.array([row[-1] for row in testing_set])\n",
    "out_of_sample_predictions = np.array([predict_linreg(nonlinear_transform(row), weights) for row in X_out_of_sample])\n",
    "out_of_sample_error = 1 - sum(np.equal(out_of_sample_predictions, Y_out_of_sample).astype(int)) / len(X_out_of_sample)"
   ]
  },
  {
   "cell_type": "code",
   "execution_count": 96,
   "metadata": {
    "collapsed": false
   },
   "outputs": [
    {
     "data": {
      "text/plain": [
       "0.083999999999999964"
      ]
     },
     "execution_count": 96,
     "metadata": {},
     "output_type": "execute_result"
    }
   ],
   "source": [
    "out_of_sample_error"
   ]
  },
  {
   "cell_type": "markdown",
   "metadata": {},
   "source": [
    "### So k = -1 is the best."
   ]
  },
  {
   "cell_type": "markdown",
   "metadata": {},
   "source": [
    "# Problem 6"
   ]
  },
  {
   "cell_type": "code",
   "execution_count": 105,
   "metadata": {
    "collapsed": true
   },
   "outputs": [],
   "source": [
    "# k = -4, lambda = 10^k\n",
    "lam = .1\n",
    "\n",
    "# Run linear regression with weight decay regularization\n",
    "weights = compute_linreg_weights_weight_decay(X_transform, Y, lam)\n",
    "\n",
    "# Get the out-of-sample error\n",
    "X_out_of_sample = np.array([row[:-1] for row in testing_set])\n",
    "Y_out_of_sample = np.array([row[-1] for row in testing_set])\n",
    "out_of_sample_predictions = np.array([predict_linreg(nonlinear_transform(row), weights) for row in X_out_of_sample])\n",
    "out_of_sample_error = 1 - sum(np.equal(out_of_sample_predictions, Y_out_of_sample).astype(int)) / len(X_out_of_sample)"
   ]
  },
  {
   "cell_type": "code",
   "execution_count": 106,
   "metadata": {
    "collapsed": false
   },
   "outputs": [
    {
     "data": {
      "text/plain": [
       "0.05600000000000005"
      ]
     },
     "execution_count": 106,
     "metadata": {},
     "output_type": "execute_result"
    }
   ],
   "source": [
    "out_of_sample_error"
   ]
  },
  {
   "cell_type": "code",
   "execution_count": null,
   "metadata": {
    "collapsed": true
   },
   "outputs": [],
   "source": []
  }
 ],
 "metadata": {
  "kernelspec": {
   "display_name": "Python 3",
   "language": "python",
   "name": "python3"
  },
  "language_info": {
   "codemirror_mode": {
    "name": "ipython",
    "version": 3
   },
   "file_extension": ".py",
   "mimetype": "text/x-python",
   "name": "python",
   "nbconvert_exporter": "python",
   "pygments_lexer": "ipython3",
   "version": "3.5.2"
  }
 },
 "nbformat": 4,
 "nbformat_minor": 0
}
