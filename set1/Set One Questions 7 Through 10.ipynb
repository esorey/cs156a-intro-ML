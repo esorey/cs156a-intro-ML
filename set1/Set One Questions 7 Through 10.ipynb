{
 "cells": [
  {
   "cell_type": "code",
   "execution_count": 20,
   "metadata": {
    "collapsed": true
   },
   "outputs": [],
   "source": [
    "import random\n",
    "import numpy as np"
   ]
  },
  {
   "cell_type": "code",
   "execution_count": 274,
   "metadata": {
    "collapsed": false
   },
   "outputs": [],
   "source": [
    "#### Helper functions for training a PLA model ####\n",
    "\n",
    "def generate_point():\n",
    "    '''Generate a random point in [-1, 1] x [-1, 1]'''\n",
    "    return [random.uniform(-1, 1), random.uniform(-1, 1)]\n",
    "\n",
    "def define_f():\n",
    "    '''Return a slope and y-intercept based on two random points in\n",
    "       [-1, 1] x [-1, 1]. This defines the function f(x) = slope * x + y_int. \n",
    "       This can fail if f is vertical. However, this is extremely unlikely given \n",
    "       that our two points are chosen randomly. If it does fail, we'll get an error.'''\n",
    "    p1 = generate_point()\n",
    "    p2 = generate_point()\n",
    "    slope = (p2[1] - p1[1]) / (p2[0] - p1[0])\n",
    "    y_int = (-1 * slope * p1[0]) + p1[1] # From point-slope form\n",
    "    return slope, y_int\n",
    "\n",
    "def evaluate_point(pt, slope, y_int):\n",
    "    ''' Return 1 if the point is above f, -1 otherwise'''\n",
    "    if pt[1] >= slope * pt[0] + y_int: # pt[0] is x coord, pt[1] is y coord\n",
    "        return 1\n",
    "    return -1\n",
    "\n",
    "def build_training_set(N, slope, y_int):\n",
    "    '''Build a set of N training points of the form ([1.0, x1, x2], y). The 1.0 is the\n",
    "       artificial coordinate used to simplify the math. x1 and x2 come from\n",
    "       [-1, 1] x [-1, 1], and y is -1 or +1, depending on whether the point (x1, x2) is\n",
    "       above or below f. f is defined by f(x) = slope * x + y_int'''\n",
    "    training_set = []\n",
    "    for i in range(N):\n",
    "        xn = generate_point() \n",
    "        yn = evaluate_point(xn, slope, y_int)\n",
    "        training_set.append(([1.] + xn, yn)) # Note the artificial coordinate\n",
    "    return training_set\n",
    "    \n",
    "def eval_PLA(pt, weights):\n",
    "    '''Classify the given point as +1 or -1 based on the the given weights vector'''\n",
    "    return np.sign(np.dot(weights, np.array(pt)))\n",
    "\n",
    "def train_PLA(training_set):\n",
    "    '''Train the PLA on training_set until it converges to f. \n",
    "       Return the number of iterations needed, along with the \n",
    "       final weight vector.'''\n",
    "    W = np.zeros(3) # weight vector; we use 3 dimensions because we have x, y, \n",
    "                    # and the threshold\n",
    "    num_iters = 0\n",
    "    missed_pts = [pair for pair in training_set if pair[1] != eval_PLA(pair[0], W)]\n",
    "    \n",
    "    while missed_pts != []:\n",
    "        missed_pt = random.choice(missed_pts)\n",
    "        missed_y = missed_pt[1]\n",
    "        missed_x = np.array(missed_pt[0]) # this is a vector\n",
    "        W += missed_y * missed_x # Update the weight vector\n",
    "        missed_pts = [pair for pair in training_set if pair[1] != eval_PLA(pair[0], W)]\n",
    "        num_iters += 1\n",
    "        \n",
    "    return num_iters, W"
   ]
  },
  {
   "cell_type": "markdown",
   "metadata": {},
   "source": [
    "# Problem 7"
   ]
  },
  {
   "cell_type": "code",
   "execution_count": 285,
   "metadata": {
    "collapsed": false
   },
   "outputs": [
    {
     "name": "stdout",
     "output_type": "stream",
     "text": [
      "9.832\n"
     ]
    }
   ],
   "source": [
    "# Now we can do our simulation.\n",
    "count = 0\n",
    "for _ in range(1000):\n",
    "    slope, y_int = define_f()\n",
    "    training_set = build_training_set(10, slope, y_int) # 10 training points\n",
    "    num_iters, _ = train_PLA(training_set)\n",
    "    count += num_iters\n",
    "print(count / 1000)"
   ]
  },
  {
   "cell_type": "markdown",
   "metadata": {},
   "source": [
    "Of the available choices, this is closest to b) 15."
   ]
  },
  {
   "cell_type": "markdown",
   "metadata": {},
   "source": [
    "# Problem 8"
   ]
  },
  {
   "cell_type": "code",
   "execution_count": 291,
   "metadata": {
    "collapsed": false
   },
   "outputs": [
    {
     "name": "stdout",
     "output_type": "stream",
     "text": [
      "0.11339500000000009\n"
     ]
    }
   ],
   "source": [
    "count = 0\n",
    "for i in range(1000):\n",
    "    # Define a function\n",
    "    slope, y_int = define_f()\n",
    "\n",
    "    # Build a training set\n",
    "    training_set = build_training_set(10, slope, y_int) # 10 training points\n",
    "\n",
    "    # Train the PLA\n",
    "    _, weights = train_PLA(training_set)\n",
    "\n",
    "    # Generate 1000 random points\n",
    "    random_pts = [generate_point() for i in range(1000)]\n",
    "\n",
    "    # Get the misclassified points\n",
    "    misclassified = [pt for pt in random_pts if evaluate_point(pt, slope, y_int) != eval_PLA([1.] + pt, weights)]\n",
    "    count += len(misclassified) / 1000\n",
    "print(count / 1000)"
   ]
  },
  {
   "cell_type": "markdown",
   "metadata": {},
   "source": [
    "This is closest to .1, so the answer is c) 0.1."
   ]
  },
  {
   "cell_type": "markdown",
   "metadata": {},
   "source": [
    "# Problem 9 "
   ]
  },
  {
   "cell_type": "code",
   "execution_count": 272,
   "metadata": {
    "collapsed": false
   },
   "outputs": [
    {
     "name": "stdout",
     "output_type": "stream",
     "text": [
      "104.807\n"
     ]
    }
   ],
   "source": [
    "# Now we can do our simulation.\n",
    "count = 0\n",
    "for _ in range(1000):\n",
    "    slope, y_int = define_f()\n",
    "    training_set = build_training_set(100, slope, y_int) # 100 training points\n",
    "    num_iters = train_PLA(training_set)\n",
    "    count += num_iters\n",
    "print(count / 1000)"
   ]
  },
  {
   "cell_type": "markdown",
   "metadata": {},
   "source": [
    "Of the available choices, this is closest to b) 100."
   ]
  },
  {
   "cell_type": "markdown",
   "metadata": {},
   "source": [
    "# Problem 10"
   ]
  },
  {
   "cell_type": "code",
   "execution_count": 292,
   "metadata": {
    "collapsed": false
   },
   "outputs": [
    {
     "name": "stdout",
     "output_type": "stream",
     "text": [
      "0.013125999999999954\n"
     ]
    }
   ],
   "source": [
    "count = 0\n",
    "for i in range(1000):\n",
    "    # Define a function\n",
    "    slope, y_int = define_f()\n",
    "\n",
    "    # Build a training set\n",
    "    training_set = build_training_set(100, slope, y_int) # 100 training points\n",
    "\n",
    "    # Train the PLA\n",
    "    _, weights = train_PLA(training_set)\n",
    "\n",
    "    # Generate 1000 random points\n",
    "    random_pts = [generate_point() for i in range(1000)]\n",
    "\n",
    "    # Get the misclassified points\n",
    "    misclassified = [pt for pt in random_pts if evaluate_point(pt, slope, y_int) != eval_PLA([1.] + pt, weights)]\n",
    "    count += len(misclassified) / 1000\n",
    "print(count / 1000)"
   ]
  },
  {
   "cell_type": "markdown",
   "metadata": {},
   "source": [
    "This is closest to 0.01 so the answer is b) 0.01."
   ]
  }
 ],
 "metadata": {
  "kernelspec": {
   "display_name": "Python 3",
   "language": "python",
   "name": "python3"
  },
  "language_info": {
   "codemirror_mode": {
    "name": "ipython",
    "version": 3
   },
   "file_extension": ".py",
   "mimetype": "text/x-python",
   "name": "python",
   "nbconvert_exporter": "python",
   "pygments_lexer": "ipython3",
   "version": "3.5.2"
  }
 },
 "nbformat": 4,
 "nbformat_minor": 0
}
